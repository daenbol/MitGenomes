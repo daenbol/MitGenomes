{
 "cells": [
  {
   "cell_type": "code",
   "execution_count": 4,
   "metadata": {},
   "outputs": [
    {
     "name": "stdout",
     "output_type": "stream",
     "text": [
      "NODE_31_length_15166_cov_3.082319\n",
      "\n",
      "17378.5\n",
      "\n",
      "NODE_27_length_15901_cov_4.066248\n",
      "\n",
      "17526.0\n",
      "\n",
      "NODE_28_length_15699_cov_3.467955\n",
      "\n",
      "17082.0\n",
      "\n",
      "NODE_26_length_16137_cov_2.864147\n",
      "\n",
      "17652.5\n",
      "\n",
      "Sat\n",
      "NODE_22_length_16895_cov_3.661200\n",
      "\n",
      "17900.5\n",
      "\n",
      "Sat\n",
      "NODE_23_length_16632_cov_3.396425\n",
      "\n",
      "18161.5\n",
      "\n",
      "NODE_30_length_15600_cov_3.355846\n",
      "\n",
      "17823.0\n",
      "\n",
      "NODE_25_length_16186_cov_3.796625\n",
      "\n",
      "17910.0\n",
      "\n",
      "NODE_24_length_16314_cov_4.236610\n",
      "\n",
      "17725.5\n",
      "\n",
      "NODE_29_length_15618_cov_3.003486\n",
      "\n",
      "17597.5\n",
      "\n"
     ]
    }
   ],
   "source": [
    "import os\n",
    "\n",
    "os.chdir(\"/home/daenbol/Documents/NurProjects/Water\")\n",
    "temp = os.listdir()\n",
    "\n",
    "a = []\n",
    "        \n",
    "genes = []\n",
    "        \n",
    "for t1 in temp:\n",
    "    \n",
    "    y = open(t1, \"r\")\n",
    "    y1 = y.readlines()\n",
    "    \n",
    "    for i in y1:\n",
    "        if (\"1:\" in i):\n",
    "            print(i.split(\" \")[2])\n",
    "        if (\"Score:\" in i):\n",
    "            print(i.split(\" \")[2])\n",
    "    y.close()            \n",
    " "
   ]
  },
  {
   "cell_type": "code",
   "execution_count": null,
   "metadata": {},
   "outputs": [],
   "source": []
  },
  {
   "cell_type": "code",
   "execution_count": null,
   "metadata": {},
   "outputs": [],
   "source": []
  },
  {
   "cell_type": "code",
   "execution_count": null,
   "metadata": {},
   "outputs": [],
   "source": []
  },
  {
   "cell_type": "code",
   "execution_count": null,
   "metadata": {},
   "outputs": [],
   "source": []
  }
 ],
 "metadata": {
  "kernelspec": {
   "display_name": "Python 3",
   "language": "python",
   "name": "python3"
  },
  "language_info": {
   "codemirror_mode": {
    "name": "ipython",
    "version": 3
   },
   "file_extension": ".py",
   "mimetype": "text/x-python",
   "name": "python",
   "nbconvert_exporter": "python",
   "pygments_lexer": "ipython3",
   "version": "3.7.6"
  }
 },
 "nbformat": 4,
 "nbformat_minor": 4
}
